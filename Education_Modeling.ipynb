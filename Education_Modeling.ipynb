{
 "cells": [
  {
   "cell_type": "code",
   "execution_count": 1,
   "id": "demanding-saying",
   "metadata": {
    "_cell_guid": "b1076dfc-b9ad-4769-8c92-a6c4dae69d19",
    "_uuid": "8f2839f25d086af736a60e9eeb907d3b93b6e0e5",
    "execution": {
     "iopub.execute_input": "2021-05-12T00:54:09.820001Z",
     "iopub.status.busy": "2021-05-12T00:54:09.819002Z",
     "iopub.status.idle": "2021-05-12T00:54:09.829116Z",
     "shell.execute_reply": "2021-05-12T00:54:09.829540Z"
    },
    "papermill": {
     "duration": 0.032521,
     "end_time": "2021-05-12T00:54:09.829806",
     "exception": false,
     "start_time": "2021-05-12T00:54:09.797285",
     "status": "completed"
    },
    "tags": []
   },
   "outputs": [
    {
     "name": "stdout",
     "output_type": "stream",
     "text": [
      "/kaggle/input/csestat-416-21sp-assignment-6/edX_column_description.pdf\n",
      "/kaggle/input/csestat-416-21sp-assignment-6/edx_test.csv\n",
      "/kaggle/input/csestat-416-21sp-assignment-6/edx_train.csv\n"
     ]
    }
   ],
   "source": [
    "# This Python 3 environment comes with many helpful analytics libraries installed\n",
    "# It is defined by the kaggle/python Docker image: https://github.com/kaggle/docker-python\n",
    "# For example, here's several helpful packages to load\n",
    "\n",
    "import numpy as np # linear algebra\n",
    "import pandas as pd # data processing, CSV file I/O (e.g. pd.read_csv)\n",
    "\n",
    "# Input data files are available in the read-only \"../input/\" directory\n",
    "# For example, running this (by clicking run or pressing Shift+Enter) will list all files under the input directory\n",
    "\n",
    "import os\n",
    "for dirname, _, filenames in os.walk('/kaggle/input'):\n",
    "    for filename in filenames:\n",
    "        print(os.path.join(dirname, filename))\n",
    "\n",
    "# You can write up to 20GB to the current directory (/kaggle/working/) that gets preserved as output when you create a version using \"Save & Run All\" \n",
    "# You can also write temporary files to /kaggle/temp/, but they won't be saved outside of the current session"
   ]
  },
  {
   "cell_type": "markdown",
   "id": "suffering-baker",
   "metadata": {
    "papermill": {
     "duration": 0.019022,
     "end_time": "2021-05-12T00:54:09.874021",
     "exception": false,
     "start_time": "2021-05-12T00:54:09.854999",
     "status": "completed"
    },
    "tags": []
   },
   "source": [
    "# CSE416 A6\n",
    "### Jason Park\n",
    "### Team Name: justjoking\n",
    "### Kaggle username: jasonp24"
   ]
  },
  {
   "cell_type": "code",
   "execution_count": 2,
   "id": "median-confidence",
   "metadata": {
    "execution": {
     "iopub.execute_input": "2021-05-12T00:54:09.914908Z",
     "iopub.status.busy": "2021-05-12T00:54:09.914260Z",
     "iopub.status.idle": "2021-05-12T00:54:10.743679Z",
     "shell.execute_reply": "2021-05-12T00:54:10.743166Z"
    },
    "papermill": {
     "duration": 0.851086,
     "end_time": "2021-05-12T00:54:10.743811",
     "exception": false,
     "start_time": "2021-05-12T00:54:09.892725",
     "status": "completed"
    },
    "tags": []
   },
   "outputs": [],
   "source": [
    "import pandas as pd\n",
    "import seaborn as sns\n",
    "import matplotlib.pyplot as plt\n"
   ]
  },
  {
   "cell_type": "code",
   "execution_count": 3,
   "id": "golden-athletics",
   "metadata": {
    "execution": {
     "iopub.execute_input": "2021-05-12T00:54:10.785017Z",
     "iopub.status.busy": "2021-05-12T00:54:10.784346Z",
     "iopub.status.idle": "2021-05-12T00:54:10.861001Z",
     "shell.execute_reply": "2021-05-12T00:54:10.860554Z"
    },
    "papermill": {
     "duration": 0.098858,
     "end_time": "2021-05-12T00:54:10.861133",
     "exception": false,
     "start_time": "2021-05-12T00:54:10.762275",
     "status": "completed"
    },
    "tags": []
   },
   "outputs": [
    {
     "data": {
      "text/html": [
       "<div>\n",
       "<style scoped>\n",
       "    .dataframe tbody tr th:only-of-type {\n",
       "        vertical-align: middle;\n",
       "    }\n",
       "\n",
       "    .dataframe tbody tr th {\n",
       "        vertical-align: top;\n",
       "    }\n",
       "\n",
       "    .dataframe thead th {\n",
       "        text-align: right;\n",
       "    }\n",
       "</style>\n",
       "<table border=\"1\" class=\"dataframe\">\n",
       "  <thead>\n",
       "    <tr style=\"text-align: right;\">\n",
       "      <th></th>\n",
       "      <th>course_id</th>\n",
       "      <th>userid_DI</th>\n",
       "      <th>registered</th>\n",
       "      <th>viewed</th>\n",
       "      <th>explored</th>\n",
       "      <th>certified</th>\n",
       "      <th>final_cc_cname_DI</th>\n",
       "      <th>LoE_DI</th>\n",
       "      <th>YoB</th>\n",
       "      <th>gender</th>\n",
       "      <th>grade</th>\n",
       "      <th>start_time_DI</th>\n",
       "      <th>last_event_DI</th>\n",
       "      <th>nevents</th>\n",
       "      <th>ndays_act</th>\n",
       "      <th>nplay_video</th>\n",
       "      <th>nchapters</th>\n",
       "      <th>nforum_posts</th>\n",
       "    </tr>\n",
       "  </thead>\n",
       "  <tbody>\n",
       "    <tr>\n",
       "      <th>0</th>\n",
       "      <td>HarvardX/CS50x/2012</td>\n",
       "      <td>MHxPC130545492</td>\n",
       "      <td>1</td>\n",
       "      <td>1</td>\n",
       "      <td>1</td>\n",
       "      <td>1</td>\n",
       "      <td>United States</td>\n",
       "      <td>Master's</td>\n",
       "      <td>1984.0</td>\n",
       "      <td>m</td>\n",
       "      <td>1</td>\n",
       "      <td>3/10/13</td>\n",
       "      <td>7/29/13</td>\n",
       "      <td>1161.0</td>\n",
       "      <td>50.0</td>\n",
       "      <td>NaN</td>\n",
       "      <td>12.0</td>\n",
       "      <td>0</td>\n",
       "    </tr>\n",
       "    <tr>\n",
       "      <th>1</th>\n",
       "      <td>HarvardX/ER22x/2013_Spring</td>\n",
       "      <td>MHxPC130536944</td>\n",
       "      <td>1</td>\n",
       "      <td>1</td>\n",
       "      <td>1</td>\n",
       "      <td>1</td>\n",
       "      <td>United Kingdom</td>\n",
       "      <td>Master's</td>\n",
       "      <td>1985.0</td>\n",
       "      <td>f</td>\n",
       "      <td>0.85</td>\n",
       "      <td>3/13/13</td>\n",
       "      <td>8/1/13</td>\n",
       "      <td>1360.0</td>\n",
       "      <td>10.0</td>\n",
       "      <td>NaN</td>\n",
       "      <td>29.0</td>\n",
       "      <td>0</td>\n",
       "    </tr>\n",
       "    <tr>\n",
       "      <th>2</th>\n",
       "      <td>HarvardX/CS50x/2012</td>\n",
       "      <td>MHxPC130442298</td>\n",
       "      <td>1</td>\n",
       "      <td>1</td>\n",
       "      <td>1</td>\n",
       "      <td>1</td>\n",
       "      <td>India</td>\n",
       "      <td>NaN</td>\n",
       "      <td>NaN</td>\n",
       "      <td>NaN</td>\n",
       "      <td>1</td>\n",
       "      <td>8/2/12</td>\n",
       "      <td>7/25/13</td>\n",
       "      <td>77.0</td>\n",
       "      <td>18.0</td>\n",
       "      <td>NaN</td>\n",
       "      <td>7.0</td>\n",
       "      <td>0</td>\n",
       "    </tr>\n",
       "    <tr>\n",
       "      <th>3</th>\n",
       "      <td>HarvardX/ER22x/2013_Spring</td>\n",
       "      <td>MHxPC130273564</td>\n",
       "      <td>1</td>\n",
       "      <td>1</td>\n",
       "      <td>1</td>\n",
       "      <td>1</td>\n",
       "      <td>United Kingdom</td>\n",
       "      <td>Bachelor's</td>\n",
       "      <td>1982.0</td>\n",
       "      <td>m</td>\n",
       "      <td>0.85</td>\n",
       "      <td>1/23/13</td>\n",
       "      <td>8/13/13</td>\n",
       "      <td>1425.0</td>\n",
       "      <td>29.0</td>\n",
       "      <td>NaN</td>\n",
       "      <td>34.0</td>\n",
       "      <td>0</td>\n",
       "    </tr>\n",
       "    <tr>\n",
       "      <th>4</th>\n",
       "      <td>HarvardX/CS50x/2012</td>\n",
       "      <td>MHxPC130247761</td>\n",
       "      <td>1</td>\n",
       "      <td>1</td>\n",
       "      <td>0</td>\n",
       "      <td>0</td>\n",
       "      <td>United States</td>\n",
       "      <td>Secondary</td>\n",
       "      <td>1989.0</td>\n",
       "      <td>m</td>\n",
       "      <td>0</td>\n",
       "      <td>3/5/13</td>\n",
       "      <td>3/5/13</td>\n",
       "      <td>6.0</td>\n",
       "      <td>1.0</td>\n",
       "      <td>NaN</td>\n",
       "      <td>1.0</td>\n",
       "      <td>0</td>\n",
       "    </tr>\n",
       "  </tbody>\n",
       "</table>\n",
       "</div>"
      ],
      "text/plain": [
       "                    course_id       userid_DI  registered  viewed  explored  \\\n",
       "0         HarvardX/CS50x/2012  MHxPC130545492           1       1         1   \n",
       "1  HarvardX/ER22x/2013_Spring  MHxPC130536944           1       1         1   \n",
       "2         HarvardX/CS50x/2012  MHxPC130442298           1       1         1   \n",
       "3  HarvardX/ER22x/2013_Spring  MHxPC130273564           1       1         1   \n",
       "4         HarvardX/CS50x/2012  MHxPC130247761           1       1         0   \n",
       "\n",
       "   certified final_cc_cname_DI      LoE_DI     YoB gender grade start_time_DI  \\\n",
       "0          1     United States    Master's  1984.0      m     1       3/10/13   \n",
       "1          1    United Kingdom    Master's  1985.0      f  0.85       3/13/13   \n",
       "2          1             India         NaN     NaN    NaN     1        8/2/12   \n",
       "3          1    United Kingdom  Bachelor's  1982.0      m  0.85       1/23/13   \n",
       "4          0     United States   Secondary  1989.0      m     0        3/5/13   \n",
       "\n",
       "  last_event_DI  nevents  ndays_act  nplay_video  nchapters  nforum_posts  \n",
       "0       7/29/13   1161.0       50.0          NaN       12.0             0  \n",
       "1        8/1/13   1360.0       10.0          NaN       29.0             0  \n",
       "2       7/25/13     77.0       18.0          NaN        7.0             0  \n",
       "3       8/13/13   1425.0       29.0          NaN       34.0             0  \n",
       "4        3/5/13      6.0        1.0          NaN        1.0             0  "
      ]
     },
     "execution_count": 3,
     "metadata": {},
     "output_type": "execute_result"
    }
   ],
   "source": [
    "# Load in the data and preview it\n",
    "edx = pd.read_csv('/kaggle/input/csestat-416-21sp-assignment-6/edx_train.csv')\n",
    "edx.head()"
   ]
  },
  {
   "cell_type": "code",
   "execution_count": 4,
   "id": "liked-extra",
   "metadata": {
    "execution": {
     "iopub.execute_input": "2021-05-12T00:54:10.908567Z",
     "iopub.status.busy": "2021-05-12T00:54:10.908018Z",
     "iopub.status.idle": "2021-05-12T00:54:10.910381Z",
     "shell.execute_reply": "2021-05-12T00:54:10.910778Z"
    },
    "papermill": {
     "duration": 0.030863,
     "end_time": "2021-05-12T00:54:10.910949",
     "exception": false,
     "start_time": "2021-05-12T00:54:10.880086",
     "status": "completed"
    },
    "tags": []
   },
   "outputs": [
    {
     "data": {
      "text/plain": [
       "Bachelor's             2954\n",
       "Master's               2325\n",
       "Secondary              1989\n",
       "Doctorate               315\n",
       "Less than Secondary     209\n",
       "Name: LoE_DI, dtype: int64"
      ]
     },
     "execution_count": 4,
     "metadata": {},
     "output_type": "execute_result"
    }
   ],
   "source": [
    "# Explore data distribution of variables\n",
    "edx['LoE_DI'].value_counts()"
   ]
  },
  {
   "cell_type": "code",
   "execution_count": 5,
   "id": "written-settlement",
   "metadata": {
    "execution": {
     "iopub.execute_input": "2021-05-12T00:54:10.951488Z",
     "iopub.status.busy": "2021-05-12T00:54:10.950840Z",
     "iopub.status.idle": "2021-05-12T00:54:10.961840Z",
     "shell.execute_reply": "2021-05-12T00:54:10.962311Z"
    },
    "papermill": {
     "duration": 0.032604,
     "end_time": "2021-05-12T00:54:10.962472",
     "exception": false,
     "start_time": "2021-05-12T00:54:10.929868",
     "status": "completed"
    },
    "tags": []
   },
   "outputs": [],
   "source": [
    "# Replace all empty strings -> NaN\n",
    "edx['grade'].replace(' ', np.nan, inplace=True)\n",
    "edx['LoE_DI'].replace(' ', np.nan, inplace=True)\n",
    "\n",
    "# Replace all NaN values -> 0\n",
    "edx = edx.fillna(0)"
   ]
  },
  {
   "cell_type": "code",
   "execution_count": 6,
   "id": "unavailable-pride",
   "metadata": {
    "execution": {
     "iopub.execute_input": "2021-05-12T00:54:11.003548Z",
     "iopub.status.busy": "2021-05-12T00:54:11.002950Z",
     "iopub.status.idle": "2021-05-12T00:54:11.013322Z",
     "shell.execute_reply": "2021-05-12T00:54:11.012772Z"
    },
    "papermill": {
     "duration": 0.03189,
     "end_time": "2021-05-12T00:54:11.013453",
     "exception": false,
     "start_time": "2021-05-12T00:54:10.981563",
     "status": "completed"
    },
    "tags": []
   },
   "outputs": [
    {
     "name": "stdout",
     "output_type": "stream",
     "text": [
      "False\n",
      "course_id             object\n",
      "userid_DI             object\n",
      "registered             int64\n",
      "viewed                 int64\n",
      "explored               int64\n",
      "certified              int64\n",
      "final_cc_cname_DI     object\n",
      "LoE_DI                object\n",
      "YoB                  float64\n",
      "gender                object\n",
      "grade                 object\n",
      "start_time_DI         object\n",
      "last_event_DI         object\n",
      "nevents              float64\n",
      "ndays_act            float64\n",
      "nplay_video          float64\n",
      "nchapters            float64\n",
      "nforum_posts           int64\n",
      "dtype: object\n"
     ]
    }
   ],
   "source": [
    "# Check if there are any NaN values\n",
    "print(edx.isnull().values.any())\n",
    "\n",
    "# Print out data types of columns\n",
    "print(edx.dtypes)"
   ]
  },
  {
   "cell_type": "code",
   "execution_count": 7,
   "id": "cubic-column",
   "metadata": {
    "execution": {
     "iopub.execute_input": "2021-05-12T00:54:11.093321Z",
     "iopub.status.busy": "2021-05-12T00:54:11.067427Z",
     "iopub.status.idle": "2021-05-12T00:54:11.193901Z",
     "shell.execute_reply": "2021-05-12T00:54:11.193299Z"
    },
    "papermill": {
     "duration": 0.16089,
     "end_time": "2021-05-12T00:54:11.194047",
     "exception": false,
     "start_time": "2021-05-12T00:54:11.033157",
     "status": "completed"
    },
    "tags": []
   },
   "outputs": [],
   "source": [
    "# Assign grades = 0 -> -1 and grades > 0 -> +1\n",
    "edx['completed'] = edx['grade'].apply(lambda grade : 1 if pd.to_numeric(grade) > 0 else 0)"
   ]
  },
  {
   "cell_type": "code",
   "execution_count": 8,
   "id": "sensitive-medline",
   "metadata": {
    "execution": {
     "iopub.execute_input": "2021-05-12T00:54:11.238817Z",
     "iopub.status.busy": "2021-05-12T00:54:11.238268Z",
     "iopub.status.idle": "2021-05-12T00:54:11.263354Z",
     "shell.execute_reply": "2021-05-12T00:54:11.263784Z"
    },
    "papermill": {
     "duration": 0.050231,
     "end_time": "2021-05-12T00:54:11.263961",
     "exception": false,
     "start_time": "2021-05-12T00:54:11.213730",
     "status": "completed"
    },
    "tags": []
   },
   "outputs": [
    {
     "name": "stdout",
     "output_type": "stream",
     "text": [
      "4170\n",
      "0\n",
      "(8758, 19)\n"
     ]
    }
   ],
   "source": [
    "# observe completed and incompleted data length\n",
    "only_completed = edx[edx['completed'] == 1]\n",
    "only_incomplete = edx[edx['completed'] == -1]\n",
    "\n",
    "print(len(only_completed))\n",
    "print(len(only_incomplete))\n",
    "print(edx.shape)"
   ]
  },
  {
   "cell_type": "markdown",
   "id": "refined-bearing",
   "metadata": {
    "papermill": {
     "duration": 0.019341,
     "end_time": "2021-05-12T00:54:11.303001",
     "exception": false,
     "start_time": "2021-05-12T00:54:11.283660",
     "status": "completed"
    },
    "tags": []
   },
   "source": [
    "## Feature Engineering for ML"
   ]
  },
  {
   "cell_type": "code",
   "execution_count": 9,
   "id": "inclusive-alexander",
   "metadata": {
    "execution": {
     "iopub.execute_input": "2021-05-12T00:54:11.352107Z",
     "iopub.status.busy": "2021-05-12T00:54:11.347476Z",
     "iopub.status.idle": "2021-05-12T00:54:11.360314Z",
     "shell.execute_reply": "2021-05-12T00:54:11.359827Z"
    },
    "papermill": {
     "duration": 0.037806,
     "end_time": "2021-05-12T00:54:11.360439",
     "exception": false,
     "start_time": "2021-05-12T00:54:11.322633",
     "status": "completed"
    },
    "tags": []
   },
   "outputs": [
    {
     "data": {
      "text/html": [
       "<div>\n",
       "<style scoped>\n",
       "    .dataframe tbody tr th:only-of-type {\n",
       "        vertical-align: middle;\n",
       "    }\n",
       "\n",
       "    .dataframe tbody tr th {\n",
       "        vertical-align: top;\n",
       "    }\n",
       "\n",
       "    .dataframe thead th {\n",
       "        text-align: right;\n",
       "    }\n",
       "</style>\n",
       "<table border=\"1\" class=\"dataframe\">\n",
       "  <thead>\n",
       "    <tr style=\"text-align: right;\">\n",
       "      <th></th>\n",
       "      <th>registered</th>\n",
       "      <th>viewed</th>\n",
       "      <th>explored</th>\n",
       "      <th>LoE_DI</th>\n",
       "      <th>nevents</th>\n",
       "      <th>ndays_act</th>\n",
       "      <th>nchapters</th>\n",
       "      <th>completed</th>\n",
       "    </tr>\n",
       "  </thead>\n",
       "  <tbody>\n",
       "    <tr>\n",
       "      <th>0</th>\n",
       "      <td>1</td>\n",
       "      <td>1</td>\n",
       "      <td>1</td>\n",
       "      <td>Master's</td>\n",
       "      <td>1161.0</td>\n",
       "      <td>50.0</td>\n",
       "      <td>12.0</td>\n",
       "      <td>1</td>\n",
       "    </tr>\n",
       "    <tr>\n",
       "      <th>1</th>\n",
       "      <td>1</td>\n",
       "      <td>1</td>\n",
       "      <td>1</td>\n",
       "      <td>Master's</td>\n",
       "      <td>1360.0</td>\n",
       "      <td>10.0</td>\n",
       "      <td>29.0</td>\n",
       "      <td>1</td>\n",
       "    </tr>\n",
       "    <tr>\n",
       "      <th>2</th>\n",
       "      <td>1</td>\n",
       "      <td>1</td>\n",
       "      <td>1</td>\n",
       "      <td>0</td>\n",
       "      <td>77.0</td>\n",
       "      <td>18.0</td>\n",
       "      <td>7.0</td>\n",
       "      <td>1</td>\n",
       "    </tr>\n",
       "    <tr>\n",
       "      <th>3</th>\n",
       "      <td>1</td>\n",
       "      <td>1</td>\n",
       "      <td>1</td>\n",
       "      <td>Bachelor's</td>\n",
       "      <td>1425.0</td>\n",
       "      <td>29.0</td>\n",
       "      <td>34.0</td>\n",
       "      <td>1</td>\n",
       "    </tr>\n",
       "    <tr>\n",
       "      <th>4</th>\n",
       "      <td>1</td>\n",
       "      <td>1</td>\n",
       "      <td>0</td>\n",
       "      <td>Secondary</td>\n",
       "      <td>6.0</td>\n",
       "      <td>1.0</td>\n",
       "      <td>1.0</td>\n",
       "      <td>0</td>\n",
       "    </tr>\n",
       "  </tbody>\n",
       "</table>\n",
       "</div>"
      ],
      "text/plain": [
       "   registered  viewed  explored      LoE_DI  nevents  ndays_act  nchapters  \\\n",
       "0           1       1         1    Master's   1161.0       50.0       12.0   \n",
       "1           1       1         1    Master's   1360.0       10.0       29.0   \n",
       "2           1       1         1           0     77.0       18.0        7.0   \n",
       "3           1       1         1  Bachelor's   1425.0       29.0       34.0   \n",
       "4           1       1         0   Secondary      6.0        1.0        1.0   \n",
       "\n",
       "   completed  \n",
       "0          1  \n",
       "1          1  \n",
       "2          1  \n",
       "3          1  \n",
       "4          0  "
      ]
     },
     "execution_count": 9,
     "metadata": {},
     "output_type": "execute_result"
    }
   ],
   "source": [
    "# Encoding Categorical Features\n",
    "features = [\n",
    "    'registered',\n",
    "    'viewed',\n",
    "    'explored',\n",
    "    'LoE_DI',\n",
    "    'nevents',\n",
    "    'ndays_act',\n",
    "    'nchapters']\n",
    "\n",
    "target = 'completed'\n",
    "\n",
    "edx = edx[features + [target]]\n",
    "edx.head()"
   ]
  },
  {
   "cell_type": "code",
   "execution_count": 10,
   "id": "bearing-requirement",
   "metadata": {
    "execution": {
     "iopub.execute_input": "2021-05-12T00:54:11.410636Z",
     "iopub.status.busy": "2021-05-12T00:54:11.410054Z",
     "iopub.status.idle": "2021-05-12T00:54:11.425579Z",
     "shell.execute_reply": "2021-05-12T00:54:11.426120Z"
    },
    "papermill": {
     "duration": 0.045467,
     "end_time": "2021-05-12T00:54:11.426284",
     "exception": false,
     "start_time": "2021-05-12T00:54:11.380817",
     "status": "completed"
    },
    "tags": []
   },
   "outputs": [
    {
     "data": {
      "text/html": [
       "<div>\n",
       "<style scoped>\n",
       "    .dataframe tbody tr th:only-of-type {\n",
       "        vertical-align: middle;\n",
       "    }\n",
       "\n",
       "    .dataframe tbody tr th {\n",
       "        vertical-align: top;\n",
       "    }\n",
       "\n",
       "    .dataframe thead th {\n",
       "        text-align: right;\n",
       "    }\n",
       "</style>\n",
       "<table border=\"1\" class=\"dataframe\">\n",
       "  <thead>\n",
       "    <tr style=\"text-align: right;\">\n",
       "      <th></th>\n",
       "      <th>registered</th>\n",
       "      <th>viewed</th>\n",
       "      <th>explored</th>\n",
       "      <th>nevents</th>\n",
       "      <th>ndays_act</th>\n",
       "      <th>nchapters</th>\n",
       "      <th>completed</th>\n",
       "      <th>LoE_DI_0</th>\n",
       "      <th>LoE_DI_Bachelor's</th>\n",
       "      <th>LoE_DI_Doctorate</th>\n",
       "      <th>LoE_DI_Less than Secondary</th>\n",
       "      <th>LoE_DI_Master's</th>\n",
       "      <th>LoE_DI_Secondary</th>\n",
       "    </tr>\n",
       "  </thead>\n",
       "  <tbody>\n",
       "    <tr>\n",
       "      <th>0</th>\n",
       "      <td>1</td>\n",
       "      <td>1</td>\n",
       "      <td>1</td>\n",
       "      <td>1161.0</td>\n",
       "      <td>50.0</td>\n",
       "      <td>12.0</td>\n",
       "      <td>1</td>\n",
       "      <td>0</td>\n",
       "      <td>0</td>\n",
       "      <td>0</td>\n",
       "      <td>0</td>\n",
       "      <td>1</td>\n",
       "      <td>0</td>\n",
       "    </tr>\n",
       "    <tr>\n",
       "      <th>1</th>\n",
       "      <td>1</td>\n",
       "      <td>1</td>\n",
       "      <td>1</td>\n",
       "      <td>1360.0</td>\n",
       "      <td>10.0</td>\n",
       "      <td>29.0</td>\n",
       "      <td>1</td>\n",
       "      <td>0</td>\n",
       "      <td>0</td>\n",
       "      <td>0</td>\n",
       "      <td>0</td>\n",
       "      <td>1</td>\n",
       "      <td>0</td>\n",
       "    </tr>\n",
       "    <tr>\n",
       "      <th>2</th>\n",
       "      <td>1</td>\n",
       "      <td>1</td>\n",
       "      <td>1</td>\n",
       "      <td>77.0</td>\n",
       "      <td>18.0</td>\n",
       "      <td>7.0</td>\n",
       "      <td>1</td>\n",
       "      <td>1</td>\n",
       "      <td>0</td>\n",
       "      <td>0</td>\n",
       "      <td>0</td>\n",
       "      <td>0</td>\n",
       "      <td>0</td>\n",
       "    </tr>\n",
       "    <tr>\n",
       "      <th>3</th>\n",
       "      <td>1</td>\n",
       "      <td>1</td>\n",
       "      <td>1</td>\n",
       "      <td>1425.0</td>\n",
       "      <td>29.0</td>\n",
       "      <td>34.0</td>\n",
       "      <td>1</td>\n",
       "      <td>0</td>\n",
       "      <td>1</td>\n",
       "      <td>0</td>\n",
       "      <td>0</td>\n",
       "      <td>0</td>\n",
       "      <td>0</td>\n",
       "    </tr>\n",
       "    <tr>\n",
       "      <th>4</th>\n",
       "      <td>1</td>\n",
       "      <td>1</td>\n",
       "      <td>0</td>\n",
       "      <td>6.0</td>\n",
       "      <td>1.0</td>\n",
       "      <td>1.0</td>\n",
       "      <td>0</td>\n",
       "      <td>0</td>\n",
       "      <td>0</td>\n",
       "      <td>0</td>\n",
       "      <td>0</td>\n",
       "      <td>0</td>\n",
       "      <td>1</td>\n",
       "    </tr>\n",
       "  </tbody>\n",
       "</table>\n",
       "</div>"
      ],
      "text/plain": [
       "   registered  viewed  explored  nevents  ndays_act  nchapters  completed  \\\n",
       "0           1       1         1   1161.0       50.0       12.0          1   \n",
       "1           1       1         1   1360.0       10.0       29.0          1   \n",
       "2           1       1         1     77.0       18.0        7.0          1   \n",
       "3           1       1         1   1425.0       29.0       34.0          1   \n",
       "4           1       1         0      6.0        1.0        1.0          0   \n",
       "\n",
       "   LoE_DI_0  LoE_DI_Bachelor's  LoE_DI_Doctorate  LoE_DI_Less than Secondary  \\\n",
       "0         0                  0                 0                           0   \n",
       "1         0                  0                 0                           0   \n",
       "2         1                  0                 0                           0   \n",
       "3         0                  1                 0                           0   \n",
       "4         0                  0                 0                           0   \n",
       "\n",
       "   LoE_DI_Master's  LoE_DI_Secondary  \n",
       "0                1                 0  \n",
       "1                1                 0  \n",
       "2                0                 0  \n",
       "3                0                 0  \n",
       "4                0                 1  "
      ]
     },
     "execution_count": 10,
     "metadata": {},
     "output_type": "execute_result"
    }
   ],
   "source": [
    "# one hot encoding: transform categorical data (education) to numeric data\n",
    "edx = pd.get_dummies(edx, columns =['LoE_DI'])\n",
    "features = list(edx.columns)\n",
    "features.remove('completed')\n",
    "features\n",
    "\n",
    "edx.head()"
   ]
  },
  {
   "cell_type": "code",
   "execution_count": 11,
   "id": "violent-spell",
   "metadata": {
    "execution": {
     "iopub.execute_input": "2021-05-12T00:54:11.473592Z",
     "iopub.status.busy": "2021-05-12T00:54:11.472954Z",
     "iopub.status.idle": "2021-05-12T00:54:11.477139Z",
     "shell.execute_reply": "2021-05-12T00:54:11.477509Z"
    },
    "papermill": {
     "duration": 0.030596,
     "end_time": "2021-05-12T00:54:11.477683",
     "exception": false,
     "start_time": "2021-05-12T00:54:11.447087",
     "status": "completed"
    },
    "tags": []
   },
   "outputs": [
    {
     "data": {
      "text/plain": [
       "(8758, 12)"
      ]
     },
     "execution_count": 11,
     "metadata": {},
     "output_type": "execute_result"
    }
   ],
   "source": [
    "# Explore shape of array\n",
    "edx[features].shape"
   ]
  },
  {
   "cell_type": "code",
   "execution_count": 12,
   "id": "comic-captain",
   "metadata": {
    "execution": {
     "iopub.execute_input": "2021-05-12T00:54:11.522697Z",
     "iopub.status.busy": "2021-05-12T00:54:11.522143Z",
     "iopub.status.idle": "2021-05-12T00:54:11.526196Z",
     "shell.execute_reply": "2021-05-12T00:54:11.526595Z"
    },
    "papermill": {
     "duration": 0.027992,
     "end_time": "2021-05-12T00:54:11.526749",
     "exception": false,
     "start_time": "2021-05-12T00:54:11.498757",
     "status": "completed"
    },
    "tags": []
   },
   "outputs": [
    {
     "data": {
      "text/plain": [
       "(8758,)"
      ]
     },
     "execution_count": 12,
     "metadata": {},
     "output_type": "execute_result"
    }
   ],
   "source": [
    "# Explore shape of array\n",
    "edx[target].shape"
   ]
  },
  {
   "cell_type": "markdown",
   "id": "expensive-lover",
   "metadata": {
    "papermill": {
     "duration": 0.021264,
     "end_time": "2021-05-12T00:54:11.569668",
     "exception": false,
     "start_time": "2021-05-12T00:54:11.548404",
     "status": "completed"
    },
    "tags": []
   },
   "source": [
    "The features that I determined were most important and that I included in my model were those found within the Features array. I chose these features after examining the distribution of data for all features, and determined that the chosen features would most likely have the greatest impact on determining whether a student finished a course or not. I also used one-hot encoding to change the Education feature from a category to numeric values so that it could be learned from an ML model."
   ]
  },
  {
   "cell_type": "markdown",
   "id": "least-recognition",
   "metadata": {
    "papermill": {
     "duration": 0.02096,
     "end_time": "2021-05-12T00:54:11.612083",
     "exception": false,
     "start_time": "2021-05-12T00:54:11.591123",
     "status": "completed"
    },
    "tags": []
   },
   "source": [
    "# Training a Logistic Regression Model"
   ]
  },
  {
   "cell_type": "code",
   "execution_count": 13,
   "id": "perceived-basics",
   "metadata": {
    "execution": {
     "iopub.execute_input": "2021-05-12T00:54:11.657457Z",
     "iopub.status.busy": "2021-05-12T00:54:11.656915Z",
     "iopub.status.idle": "2021-05-12T00:54:11.852915Z",
     "shell.execute_reply": "2021-05-12T00:54:11.853578Z"
    },
    "papermill": {
     "duration": 0.220261,
     "end_time": "2021-05-12T00:54:11.853780",
     "exception": false,
     "start_time": "2021-05-12T00:54:11.633519",
     "status": "completed"
    },
    "tags": []
   },
   "outputs": [],
   "source": [
    "from sklearn.model_selection import train_test_split\n",
    "# 80/20 test/train split\n",
    "train_data, test_data = train_test_split(edx, test_size=0.2)"
   ]
  },
  {
   "cell_type": "code",
   "execution_count": 14,
   "id": "wired-disabled",
   "metadata": {
    "execution": {
     "iopub.execute_input": "2021-05-12T00:54:11.915290Z",
     "iopub.status.busy": "2021-05-12T00:54:11.914506Z",
     "iopub.status.idle": "2021-05-12T00:54:12.192673Z",
     "shell.execute_reply": "2021-05-12T00:54:12.193514Z"
    },
    "papermill": {
     "duration": 0.313724,
     "end_time": "2021-05-12T00:54:12.193772",
     "exception": false,
     "start_time": "2021-05-12T00:54:11.880048",
     "status": "completed"
    },
    "tags": []
   },
   "outputs": [
    {
     "name": "stderr",
     "output_type": "stream",
     "text": [
      "/opt/conda/lib/python3.7/site-packages/sklearn/linear_model/_logistic.py:765: ConvergenceWarning: lbfgs failed to converge (status=1):\n",
      "STOP: TOTAL NO. of ITERATIONS REACHED LIMIT.\n",
      "\n",
      "Increase the number of iterations (max_iter) or scale the data as shown in:\n",
      "    https://scikit-learn.org/stable/modules/preprocessing.html\n",
      "Please also refer to the documentation for alternative solver options:\n",
      "    https://scikit-learn.org/stable/modules/linear_model.html#logistic-regression\n",
      "  extra_warning_msg=_LOGISTIC_SOLVER_CONVERGENCE_MSG)\n"
     ]
    },
    {
     "data": {
      "text/plain": [
       "LogisticRegression()"
      ]
     },
     "execution_count": 14,
     "metadata": {},
     "output_type": "execute_result"
    }
   ],
   "source": [
    "# train model using logistic regression\n",
    "from sklearn.linear_model import LogisticRegression\n",
    "\n",
    "LogReg = LogisticRegression()\n",
    "LogReg.fit(train_data[features], train_data[target])"
   ]
  },
  {
   "cell_type": "code",
   "execution_count": 15,
   "id": "happy-collar",
   "metadata": {
    "execution": {
     "iopub.execute_input": "2021-05-12T00:54:12.283121Z",
     "iopub.status.busy": "2021-05-12T00:54:12.282207Z",
     "iopub.status.idle": "2021-05-12T00:54:12.289644Z",
     "shell.execute_reply": "2021-05-12T00:54:12.290488Z"
    },
    "papermill": {
     "duration": 0.055052,
     "end_time": "2021-05-12T00:54:12.290739",
     "exception": false,
     "start_time": "2021-05-12T00:54:12.235687",
     "status": "completed"
    },
    "tags": []
   },
   "outputs": [],
   "source": [
    "# predict output using logistic regression\n",
    "prediction_logreg = LogReg.predict(test_data[features])"
   ]
  },
  {
   "cell_type": "code",
   "execution_count": 16,
   "id": "ancient-location",
   "metadata": {
    "execution": {
     "iopub.execute_input": "2021-05-12T00:54:12.381104Z",
     "iopub.status.busy": "2021-05-12T00:54:12.380219Z",
     "iopub.status.idle": "2021-05-12T00:54:12.384349Z",
     "shell.execute_reply": "2021-05-12T00:54:12.385170Z"
    },
    "papermill": {
     "duration": 0.052577,
     "end_time": "2021-05-12T00:54:12.385400",
     "exception": false,
     "start_time": "2021-05-12T00:54:12.332823",
     "status": "completed"
    },
    "tags": []
   },
   "outputs": [
    {
     "data": {
      "text/plain": [
       "array([1, 0, 1, ..., 0, 1, 0])"
      ]
     },
     "execution_count": 16,
     "metadata": {},
     "output_type": "execute_result"
    }
   ],
   "source": [
    "# view printed out prediction in array form\n",
    "prediction_logreg"
   ]
  },
  {
   "cell_type": "code",
   "execution_count": 17,
   "id": "constant-digest",
   "metadata": {
    "execution": {
     "iopub.execute_input": "2021-05-12T00:54:12.449103Z",
     "iopub.status.busy": "2021-05-12T00:54:12.447970Z",
     "iopub.status.idle": "2021-05-12T00:54:12.454810Z",
     "shell.execute_reply": "2021-05-12T00:54:12.456214Z"
    },
    "papermill": {
     "duration": 0.039771,
     "end_time": "2021-05-12T00:54:12.456617",
     "exception": false,
     "start_time": "2021-05-12T00:54:12.416846",
     "status": "completed"
    },
    "tags": []
   },
   "outputs": [
    {
     "name": "stdout",
     "output_type": "stream",
     "text": [
      "0.9594748858447488\n"
     ]
    }
   ],
   "source": [
    "# Check accuracy score of logistic regression model\n",
    "from sklearn.metrics import accuracy_score\n",
    "\n",
    "y_true = test_data[target]\n",
    "y_pred = LogReg.predict(test_data[features])\n",
    "\n",
    "model_accuracy = accuracy_score(y_true, y_pred)\n",
    "\n",
    "print(model_accuracy)"
   ]
  },
  {
   "cell_type": "code",
   "execution_count": 18,
   "id": "marine-blowing",
   "metadata": {
    "execution": {
     "iopub.execute_input": "2021-05-12T00:54:12.569312Z",
     "iopub.status.busy": "2021-05-12T00:54:12.568689Z",
     "iopub.status.idle": "2021-05-12T00:54:12.757204Z",
     "shell.execute_reply": "2021-05-12T00:54:12.757643Z"
    },
    "papermill": {
     "duration": 0.25285,
     "end_time": "2021-05-12T00:54:12.757809",
     "exception": false,
     "start_time": "2021-05-12T00:54:12.504959",
     "status": "completed"
    },
    "tags": []
   },
   "outputs": [
    {
     "data": {
      "image/png": "[encoded data removed]",
      "text/plain": [
       "<Figure size 432x288 with 2 Axes>"
      ]
     },
     "metadata": {
      "needs_background": "light"
     },
     "output_type": "display_data"
    }
   ],
   "source": [
    "# Code Source: CSE 416 HW 3 - Sentiment Analysis with Logistic Regression\n",
    "\n",
    "def plot_confusion_matrix(tp, fp, fn, tn):\n",
    "    \"\"\"\n",
    "    Plots a confusion matrix using the values \n",
    "       tp - True Positive\n",
    "       fp - False Positive\n",
    "       fn - False Negative\n",
    "       tn - True Negative\n",
    "    \"\"\"\n",
    "    data = np.matrix([[tp, fp], [fn, tn]])\n",
    "\n",
    "    sns.heatmap(data,annot=True,xticklabels=['Actual Pos', 'Actual Neg']\n",
    "              ,yticklabels=['Pred. Pos', 'Pred. Neg']) \n",
    "\n",
    "\n",
    "\n",
    "# TODO Compute the four values tp, fp, fn, tn and plot them using plot_confusion_matrix\n",
    "from sklearn import metrics\n",
    "from sklearn.metrics import confusion_matrix\n",
    "\n",
    "confusion_matrix(y_true, y_pred)\n",
    "\n",
    "tp = 923\n",
    "fp = 42\n",
    "fn = 25\n",
    "tn = 762\n",
    "\n",
    "plot_confusion_matrix(tp, fp, fn, tn)"
   ]
  },
  {
   "cell_type": "markdown",
   "id": "unusual-spotlight",
   "metadata": {
    "papermill": {
     "duration": 0.023714,
     "end_time": "2021-05-12T00:54:12.805536",
     "exception": false,
     "start_time": "2021-05-12T00:54:12.781822",
     "status": "completed"
    },
    "tags": []
   },
   "source": [
    "The visualization of the logisitc regression model above shows that there are a high amount of true positive, meaning high accuracy from the model, and a low amount of false positives and false negatives, which would be where our model was incorrect"
   ]
  },
  {
   "cell_type": "markdown",
   "id": "rotary-exhibition",
   "metadata": {
    "papermill": {
     "duration": 0.023901,
     "end_time": "2021-05-12T00:54:12.853818",
     "exception": false,
     "start_time": "2021-05-12T00:54:12.829917",
     "status": "completed"
    },
    "tags": []
   },
   "source": [
    "## Training Decision Tree Model"
   ]
  },
  {
   "cell_type": "code",
   "execution_count": 19,
   "id": "written-decimal",
   "metadata": {
    "execution": {
     "iopub.execute_input": "2021-05-12T00:54:12.905658Z",
     "iopub.status.busy": "2021-05-12T00:54:12.905089Z",
     "iopub.status.idle": "2021-05-12T00:54:15.437235Z",
     "shell.execute_reply": "2021-05-12T00:54:15.436584Z"
    },
    "papermill": {
     "duration": 2.559168,
     "end_time": "2021-05-12T00:54:15.437368",
     "exception": false,
     "start_time": "2021-05-12T00:54:12.878200",
     "status": "completed"
    },
    "tags": []
   },
   "outputs": [
    {
     "name": "stdout",
     "output_type": "stream",
     "text": [
      "{'max_depth': 15, 'min_samples_leaf': 10}\n"
     ]
    }
   ],
   "source": [
    "# hyperparameter tuning to find right fit parameters for decision tree model\n",
    "from sklearn.model_selection import GridSearchCV\n",
    "from sklearn.tree import DecisionTreeClassifier\n",
    "\n",
    "min_samples_leaf = [1, 10, 50, 100, 200, 300]\n",
    "max_depth = [1, 5, 10, 15, 20]\n",
    "\n",
    "hyperparameters = {'min_samples_leaf': min_samples_leaf,\n",
    "                    'max_depth': max_depth}\n",
    "\n",
    "decision_tree_model = DecisionTreeClassifier()\n",
    "\n",
    "search = GridSearchCV(estimator = DecisionTreeClassifier(), param_grid = hyperparameters, cv = 6, return_train_score=True)\n",
    "\n",
    "search.fit(train_data[features], train_data[target])\n",
    "print(search.best_params_)"
   ]
  },
  {
   "cell_type": "code",
   "execution_count": 20,
   "id": "double-fruit",
   "metadata": {
    "execution": {
     "iopub.execute_input": "2021-05-12T00:54:15.492044Z",
     "iopub.status.busy": "2021-05-12T00:54:15.490021Z",
     "iopub.status.idle": "2021-05-12T00:54:15.506821Z",
     "shell.execute_reply": "2021-05-12T00:54:15.507258Z"
    },
    "papermill": {
     "duration": 0.046265,
     "end_time": "2021-05-12T00:54:15.507431",
     "exception": false,
     "start_time": "2021-05-12T00:54:15.461166",
     "status": "completed"
    },
    "tags": []
   },
   "outputs": [
    {
     "data": {
      "text/plain": [
       "DecisionTreeClassifier(max_depth=10, min_samples_leaf=10)"
      ]
     },
     "execution_count": 20,
     "metadata": {},
     "output_type": "execute_result"
    }
   ],
   "source": [
    "# train decision tree model\n",
    "decision_tree_model = DecisionTreeClassifier(max_depth=10, min_samples_leaf=10)\n",
    "decision_tree_model.fit(train_data[features], train_data[target])"
   ]
  },
  {
   "cell_type": "code",
   "execution_count": 21,
   "id": "constant-mandate",
   "metadata": {
    "execution": {
     "iopub.execute_input": "2021-05-12T00:54:15.562844Z",
     "iopub.status.busy": "2021-05-12T00:54:15.562249Z",
     "iopub.status.idle": "2021-05-12T00:54:15.565672Z",
     "shell.execute_reply": "2021-05-12T00:54:15.565205Z"
    },
    "papermill": {
     "duration": 0.034285,
     "end_time": "2021-05-12T00:54:15.565803",
     "exception": false,
     "start_time": "2021-05-12T00:54:15.531518",
     "status": "completed"
    },
    "tags": []
   },
   "outputs": [],
   "source": [
    "# predict output using decision tree model\n",
    "tree_predictions = decision_tree_model.predict(test_data[features])"
   ]
  },
  {
   "cell_type": "code",
   "execution_count": 22,
   "id": "outdoor-employment",
   "metadata": {
    "execution": {
     "iopub.execute_input": "2021-05-12T00:54:15.617672Z",
     "iopub.status.busy": "2021-05-12T00:54:15.617134Z",
     "iopub.status.idle": "2021-05-12T00:54:15.621360Z",
     "shell.execute_reply": "2021-05-12T00:54:15.621793Z"
    },
    "papermill": {
     "duration": 0.031589,
     "end_time": "2021-05-12T00:54:15.621969",
     "exception": false,
     "start_time": "2021-05-12T00:54:15.590380",
     "status": "completed"
    },
    "tags": []
   },
   "outputs": [
    {
     "data": {
      "text/plain": [
       "array([1, 0, 1, ..., 0, 1, 0])"
      ]
     },
     "execution_count": 22,
     "metadata": {},
     "output_type": "execute_result"
    }
   ],
   "source": [
    "# print out predictions for decision tree\n",
    "tree_predictions"
   ]
  },
  {
   "cell_type": "code",
   "execution_count": 23,
   "id": "realistic-rendering",
   "metadata": {
    "execution": {
     "iopub.execute_input": "2021-05-12T00:54:15.674424Z",
     "iopub.status.busy": "2021-05-12T00:54:15.673860Z",
     "iopub.status.idle": "2021-05-12T00:54:15.686982Z",
     "shell.execute_reply": "2021-05-12T00:54:15.687728Z"
    },
    "papermill": {
     "duration": 0.041186,
     "end_time": "2021-05-12T00:54:15.687914",
     "exception": false,
     "start_time": "2021-05-12T00:54:15.646728",
     "status": "completed"
    },
    "tags": []
   },
   "outputs": [
    {
     "name": "stdout",
     "output_type": "stream",
     "text": [
      "0.9750214102198116\n",
      "0.9720319634703196\n"
     ]
    }
   ],
   "source": [
    "# print out accuracy of decision tree model predictions\n",
    "decision_train_accuracy = decision_tree_model.score(train_data[features], train_data[target])\n",
    "print(decision_train_accuracy)\n",
    "decision_test_accuracy = decision_tree_model.score(test_data[features], test_data[target])\n",
    "print(decision_test_accuracy)"
   ]
  },
  {
   "cell_type": "markdown",
   "id": "sharing-sheriff",
   "metadata": {
    "papermill": {
     "duration": 0.024622,
     "end_time": "2021-05-12T00:54:15.738829",
     "exception": false,
     "start_time": "2021-05-12T00:54:15.714207",
     "status": "completed"
    },
    "tags": []
   },
   "source": [
    "## Training Random Forest Classifier"
   ]
  },
  {
   "cell_type": "code",
   "execution_count": 24,
   "id": "clinical-hunger",
   "metadata": {
    "execution": {
     "iopub.execute_input": "2021-05-12T00:54:15.792107Z",
     "iopub.status.busy": "2021-05-12T00:54:15.791257Z",
     "iopub.status.idle": "2021-05-12T00:54:16.215263Z",
     "shell.execute_reply": "2021-05-12T00:54:16.215644Z"
    },
    "papermill": {
     "duration": 0.451968,
     "end_time": "2021-05-12T00:54:16.215808",
     "exception": false,
     "start_time": "2021-05-12T00:54:15.763840",
     "status": "completed"
    },
    "tags": []
   },
   "outputs": [
    {
     "data": {
      "text/plain": [
       "RandomForestClassifier()"
      ]
     },
     "execution_count": 24,
     "metadata": {},
     "output_type": "execute_result"
    }
   ],
   "source": [
    "from sklearn.ensemble import RandomForestClassifier\n",
    "\n",
    "# train random forest classifier model\n",
    "random_forest = RandomForestClassifier()\n",
    "random_forest.fit(train_data[features], train_data[target])"
   ]
  },
  {
   "cell_type": "code",
   "execution_count": 25,
   "id": "pleased-patio",
   "metadata": {
    "execution": {
     "iopub.execute_input": "2021-05-12T00:54:16.269662Z",
     "iopub.status.busy": "2021-05-12T00:54:16.268795Z",
     "iopub.status.idle": "2021-05-12T00:54:16.302320Z",
     "shell.execute_reply": "2021-05-12T00:54:16.302713Z"
    },
    "papermill": {
     "duration": 0.061682,
     "end_time": "2021-05-12T00:54:16.302895",
     "exception": false,
     "start_time": "2021-05-12T00:54:16.241213",
     "status": "completed"
    },
    "tags": []
   },
   "outputs": [],
   "source": [
    "random_forest_prediction = random_forest.predict(test_data[features])"
   ]
  },
  {
   "cell_type": "code",
   "execution_count": 26,
   "id": "usual-brooks",
   "metadata": {
    "execution": {
     "iopub.execute_input": "2021-05-12T00:54:16.356321Z",
     "iopub.status.busy": "2021-05-12T00:54:16.355531Z",
     "iopub.status.idle": "2021-05-12T00:54:16.360068Z",
     "shell.execute_reply": "2021-05-12T00:54:16.360467Z"
    },
    "papermill": {
     "duration": 0.032894,
     "end_time": "2021-05-12T00:54:16.360614",
     "exception": false,
     "start_time": "2021-05-12T00:54:16.327720",
     "status": "completed"
    },
    "tags": []
   },
   "outputs": [
    {
     "data": {
      "text/plain": [
       "array([1, 0, 1, ..., 0, 1, 0])"
      ]
     },
     "execution_count": 26,
     "metadata": {},
     "output_type": "execute_result"
    }
   ],
   "source": [
    "random_forest_prediction"
   ]
  },
  {
   "cell_type": "code",
   "execution_count": 27,
   "id": "floral-beauty",
   "metadata": {
    "execution": {
     "iopub.execute_input": "2021-05-12T00:54:16.414672Z",
     "iopub.status.busy": "2021-05-12T00:54:16.413800Z",
     "iopub.status.idle": "2021-05-12T00:54:16.525286Z",
     "shell.execute_reply": "2021-05-12T00:54:16.524615Z"
    },
    "papermill": {
     "duration": 0.139679,
     "end_time": "2021-05-12T00:54:16.525425",
     "exception": false,
     "start_time": "2021-05-12T00:54:16.385746",
     "status": "completed"
    },
    "tags": []
   },
   "outputs": [
    {
     "name": "stdout",
     "output_type": "stream",
     "text": [
      "0.9997145304025121\n",
      "0.9680365296803652\n"
     ]
    }
   ],
   "source": [
    "random_train_accuracy = random_forest.score(train_data[features], train_data[target])\n",
    "print(random_train_accuracy)\n",
    "random_test_accuracy = random_forest.score(test_data[features], test_data[target])\n",
    "print(random_test_accuracy)"
   ]
  },
  {
   "cell_type": "markdown",
   "id": "alone-nurse",
   "metadata": {
    "papermill": {
     "duration": 0.02545,
     "end_time": "2021-05-12T00:54:16.577223",
     "exception": false,
     "start_time": "2021-05-12T00:54:16.551773",
     "status": "completed"
    },
    "tags": []
   },
   "source": [
    "## Tree Visualization"
   ]
  },
  {
   "cell_type": "code",
   "execution_count": 28,
   "id": "correct-falls",
   "metadata": {
    "execution": {
     "iopub.execute_input": "2021-05-12T00:54:16.639660Z",
     "iopub.status.busy": "2021-05-12T00:54:16.639052Z",
     "iopub.status.idle": "2021-05-12T00:54:18.351945Z",
     "shell.execute_reply": "2021-05-12T00:54:18.352402Z"
    },
    "papermill": {
     "duration": 1.749477,
     "end_time": "2021-05-12T00:54:18.352565",
     "exception": false,
     "start_time": "2021-05-12T00:54:16.603088",
     "status": "completed"
    },
    "tags": []
   },
   "outputs": [
    {
     "name": "stdout",
     "output_type": "stream",
     "text": [
      "Depth 1\n",
      "Depth 3\n",
      "Depth 5\n",
      "Depth 7\n",
      "Depth 9\n",
      "Depth 11\n",
      "Depth 13\n",
      "Depth 15\n",
      "Depth 17\n",
      "Depth 19\n",
      "Depth 21\n",
      "Depth 23\n",
      "Depth 25\n"
     ]
    },
    {
     "data": {
      "image/png": "[encoded data removed]",
      "text/plain": [
       "<Figure size 1080x360 with 2 Axes>"
      ]
     },
     "metadata": {
      "needs_background": "light"
     },
     "output_type": "display_data"
    }
   ],
   "source": [
    "# Code Source: CSE 416: HW 5 - Loan Safety with Decision Trees\n",
    "\n",
    "# First calculate the accuracies for each depth\n",
    "depths = list(range(1, 26, 2))\n",
    "dt_accuracies = []\n",
    "rf_accuracies = []\n",
    "\n",
    "for i in depths:\n",
    "    print(f'Depth {i}')\n",
    "\n",
    "    # Train and evaluate a Decision Tree Classifier with given max_depth\n",
    "    tree = DecisionTreeClassifier(max_depth=i)\n",
    "    tree.fit(train_data[features], train_data[target])\n",
    "    dt_accuracies.append((\n",
    "        accuracy_score(tree.predict(train_data[features]), train_data[target]),\n",
    "        accuracy_score(tree.predict(test_data[features]), test_data[target])\n",
    "    ))\n",
    "    \n",
    "    # Train and evaluate our RandomForest classifier with given max_depth \n",
    "    rf = RandomForestClassifier(15, max_depth=i)\n",
    "    rf.fit(train_data[features], train_data[target])\n",
    "    rf_accuracies.append((     \n",
    "        accuracy_score(rf.predict(train_data[features]), train_data[target]),\n",
    "        accuracy_score(rf.predict(test_data[features]), test_data[target])\n",
    "    ))\n",
    "    \n",
    "# Then plot the scores\n",
    "fig, axs = plt.subplots(1, 2, figsize=(15, 5))\n",
    "\n",
    "# Plot training accuracies\n",
    "axs[0].plot(depths, [acc[0] for acc in dt_accuracies], label='DecisionTree')\n",
    "axs[0].plot(depths, [acc[0] for acc in rf_accuracies], label='RandomForest')\n",
    "\n",
    "# Plot validation accuracies\n",
    "axs[1].plot(depths, [acc[1] for acc in dt_accuracies], label='DecisionTree')\n",
    "axs[1].plot(depths, [acc[1] for acc in rf_accuracies], label='RandomForest')\n",
    "\n",
    "# Customize plots\n",
    "axs[0].set_title('Train Data')\n",
    "axs[1].set_title('Test Data')\n",
    "for ax in axs:\n",
    "    ax.legend()\n",
    "    ax.set_xlabel('Max Depth')\n",
    "    ax.set_ylabel('Accuracy')"
   ]
  },
  {
   "cell_type": "markdown",
   "id": "political-surgeon",
   "metadata": {
    "papermill": {
     "duration": 0.029801,
     "end_time": "2021-05-12T00:54:18.412303",
     "exception": false,
     "start_time": "2021-05-12T00:54:18.382502",
     "status": "completed"
    },
    "tags": []
   },
   "source": [
    "The visualizations of the Decision Tree and Random Forest models above show that while the Decision Tree performs with higher accuracy compared to the Random Forest model on the Training Data, the Random Forest model performs slightly better when using the Test Data"
   ]
  },
  {
   "cell_type": "markdown",
   "id": "final-friend",
   "metadata": {
    "papermill": {
     "duration": 0.029696,
     "end_time": "2021-05-12T00:54:18.471957",
     "exception": false,
     "start_time": "2021-05-12T00:54:18.442261",
     "status": "completed"
    },
    "tags": []
   },
   "source": [
    "## Kaggle File Submittion"
   ]
  },
  {
   "cell_type": "code",
   "execution_count": 29,
   "id": "statewide-evanescence",
   "metadata": {
    "execution": {
     "iopub.execute_input": "2021-05-12T00:54:18.539186Z",
     "iopub.status.busy": "2021-05-12T00:54:18.538571Z",
     "iopub.status.idle": "2021-05-12T00:54:18.661557Z",
     "shell.execute_reply": "2021-05-12T00:54:18.662026Z"
    },
    "papermill": {
     "duration": 0.16019,
     "end_time": "2021-05-12T00:54:18.662192",
     "exception": false,
     "start_time": "2021-05-12T00:54:18.502002",
     "status": "completed"
    },
    "tags": []
   },
   "outputs": [],
   "source": [
    "df_test = pd.read_csv('/kaggle/input/csestat-416-21sp-assignment-6/edx_test.csv')\n",
    "\n",
    "# Any code to pre-process the data \n",
    "to_save = df_test[['userid_DI']].copy()\n",
    "\n",
    "# Replace all empty strings -> NaN\n",
    "df_test['grade'].replace(' ', np.nan, inplace=True)\n",
    "df_test['LoE_DI'].replace(' ', np.nan, inplace=True)\n",
    "\n",
    "# Replace all NaN values -> 0\n",
    "df_test = df_test.fillna(0)\n",
    "\n",
    "# Assign grades = 0 -> -1 and grades > 0 -> +1\n",
    "df_test['completed'] = df_test['grade'].apply(lambda grade : 1 if pd.to_numeric(grade) > 0 else 0)\n",
    "\n",
    "# Encoding Categorical Features\n",
    "features = [\n",
    "    'registered',\n",
    "    'viewed',\n",
    "    'explored',\n",
    "    'LoE_DI',\n",
    "    'nevents',\n",
    "    'ndays_act',\n",
    "    'nchapters']\n",
    "\n",
    "\n",
    "target = 'completed'\n",
    "\n",
    "df_test = df_test[features + [target]]\n",
    "\n",
    "# one hot encoding: transform categorical data (education) to numeric data\n",
    "df_test = pd.get_dummies(df_test, columns =['LoE_DI'])\n",
    "features = list(df_test.columns)\n",
    "features.remove('completed')\n",
    "\n",
    "\n",
    "# The code to make the predictions on the test data \n",
    "# (likely something like model.predict(...))\n",
    "predictions = random_forest.predict(df_test[features])\n",
    "\n",
    "#to_save = df_test[['userid_DI']].copy()\n",
    "to_save.loc[:, 'certified'] = predictions\n",
    "to_save.to_csv('submission.csv', index=False)"
   ]
  },
  {
   "cell_type": "markdown",
   "id": "treated-seating",
   "metadata": {
    "papermill": {
     "duration": 0.030854,
     "end_time": "2021-05-12T00:54:18.722831",
     "exception": false,
     "start_time": "2021-05-12T00:54:18.691977",
     "status": "completed"
    },
    "tags": []
   },
   "source": [
    "# Responses"
   ]
  },
  {
   "cell_type": "markdown",
   "id": "brief-century",
   "metadata": {
    "papermill": {
     "duration": 0.029551,
     "end_time": "2021-05-12T00:54:18.782369",
     "exception": false,
     "start_time": "2021-05-12T00:54:18.752818",
     "status": "completed"
    },
    "tags": []
   },
   "source": [
    "## Changes from initial model\n",
    "One change I implemented was to use one-hot encoding in order to include the Education variable in my ML models. Originally, I had left this variable out because it was a categorical variable, but using one-hot encoding, I was able to change it to a numeric value that improved the accuracy of my ML models."
   ]
  },
  {
   "cell_type": "markdown",
   "id": "spread-investigation",
   "metadata": {
    "papermill": {
     "duration": 0.029637,
     "end_time": "2021-05-12T00:54:18.842848",
     "exception": false,
     "start_time": "2021-05-12T00:54:18.813211",
     "status": "completed"
    },
    "tags": []
   },
   "source": [
    "## Ethical Implications\n",
    "One ethical consideration that I would think about before acting upon the plan laid out in the specs is that access to education is not equitable for all people globally. For example, some participants may not have been in the financial position to have had the choice to attend college or not, and therefore, their highest level of education may have been up to High School. However, this does not mean that that person is not as capable of completing the online courses as someone who graduated from college. Also, by choosing to tailor course material towards a specific group means that you are choosing to make your educational material less accessible for all, which is an issue in education equity."
   ]
  }
 ],
 "metadata": {
  "kernelspec": {
   "display_name": "Python 3",
   "language": "python",
   "name": "python3"
  },
  "language_info": {
   "codemirror_mode": {
    "name": "ipython",
    "version": 3
   },
   "file_extension": ".py",
   "mimetype": "text/x-python",
   "name": "python",
   "nbconvert_exporter": "python",
   "pygments_lexer": "ipython3",
   "version": "3.7.10"
  },
  "papermill": {
   "default_parameters": {},
   "duration": 16.720274,
   "end_time": "2021-05-12T00:54:19.581852",
   "environment_variables": {},
   "exception": null,
   "input_path": "__notebook__.ipynb",
   "output_path": "__notebook__.ipynb",
   "parameters": {},
   "start_time": "2021-05-12T00:54:02.861578",
   "version": "2.3.3"
  }
 },
 "nbformat": 4,
 "nbformat_minor": 5
}
